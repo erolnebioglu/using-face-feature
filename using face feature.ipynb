{
 "cells": [
  {
   "cell_type": "code",
   "execution_count": 82,
   "id": "66e0807a",
   "metadata": {},
   "outputs": [],
   "source": [
    "import cv2\n",
    "import numpy as np\n",
    "import math"
   ]
  },
  {
   "cell_type": "code",
   "execution_count": 83,
   "id": "324967b9",
   "metadata": {},
   "outputs": [],
   "source": [
    "def findMaxContour(contours):\n",
    "    \n",
    "    max_i =0\n",
    "    max_area=0\n",
    "    \n",
    "    for i in range(len(contours)):\n",
    "        area_face = cv2.contourArea(contours[i]) \n",
    "        if max_area<area_face:\n",
    "            max_area=area_face\n",
    "            max_i = i\n",
    "            \n",
    "            try:\n",
    "                c = contours[max_i]\n",
    "                \n",
    "            except:\n",
    "                contours = [0]\n",
    "                c = contours[0]\n",
    "    return c"
   ]
  },
  {
   "cell_type": "code",
   "execution_count": 84,
   "id": "5812b64f",
   "metadata": {},
   "outputs": [],
   "source": [
    "cap = cv2.VideoCapture(0)"
   ]
  },
  {
   "cell_type": "code",
   "execution_count": 85,
   "id": "5336de19",
   "metadata": {},
   "outputs": [],
   "source": [
    "while True:\n",
    "    ret,frame = cap.read()\n",
    "    frame = cv2.flip(frame,1)\n",
    "    \n",
    "    roi = frame[100:300,200:400] #[y1:y2,x1,x2]\n",
    "    cv2.rectangle(frame,(200,100),(400,300),(0,0,255),0)\n",
    "    \n",
    "    hsv =cv2.cvtColor(roi,cv2.COLOR_BGR2HSV)\n",
    "    lower_color = np.array([0,45,79],dtype = np.uint8)\n",
    "    upper_color = np.array([35,255,255],dtype=np.uint8)\n",
    "    \n",
    "    mask = cv2.inRange(hsv,lower_color,upper_color)\n",
    "    kernel = np.ones((3,3),np.uint8)\n",
    "    mask = cv2.dilate(mask,kernel,iterations=1)\n",
    "    mask = cv2.medianBlur(mask,15)\n",
    "    \n",
    "    contours,_ = cv2.findContours(mask,cv2.RETR_TREE,cv2.CHAIN_APPROX_SIMPLE)\n",
    "    \n",
    "    if len(contours)>0:\n",
    "        \n",
    "            \n",
    "            c = findMaxContour(contours)\n",
    "            extLeft = tuple(c[c[:,:,0].argmin()][0])\n",
    "            extRight = tuple(c[c[:,:,0].argmax()][0])\n",
    "            extTop = tuple(c[c[:,:,1].argmin()][0])\n",
    "            extBottom = tuple(c[c[:,:,1].argmax()][0])\n",
    "            \n",
    "            cv2.circle(roi,extLeft,5,(0,255,0),2)\n",
    "            cv2.circle(roi,extRight,5,(0,255,0),2)\n",
    "            cv2.circle(roi,extTop,5,(0,255,0),2)\n",
    "            cv2.circle(roi,extBottom,5,(0,255,0),2)\n",
    "            \n",
    "            cv2.line(roi,extLeft,extTop,(255,0,0),2)\n",
    "            cv2.line(roi,extTop,extRight,(255,0,0),2)\n",
    "            cv2.line(roi,extRight,extBottom,(255,0,0),2)\n",
    "            cv2.line(roi,extBottom,extLeft,(255,0,0),2)\n",
    "            \n",
    "            a = math.sqrt((extRight[0]-extTop[0])**2+(extRight[1]-extTop[1])**2)\n",
    "            b = math.sqrt((extBottom[0]-extRight[0])**2+(extBottom[1]-extRight[1])**2)\n",
    "            c = math.sqrt((extBottom[0]-extTop[0])**2+(extBottom[1]-extTop[1])**2)\n",
    "            \n",
    "            try:\n",
    "                angle_ab = int(math.acos((a**2+b**2-c**2)/(2*b*c))*57)\n",
    "                cv2.putText(roi,str(angle_ab),(extRight[0]-100,extRight[1]),cv2.FONT_HERSHEY_SIMPLEX,1,(0,0,255),2,cv2.LINE_AA)\n",
    "            \n",
    "            except:\n",
    "                cv2.putText(roi,\"?\",(extRight[0]-100+50,extRight[1]),cv2.FONT_HERSHEY_SIMPLEX,1,(0,0,255),2,cv2.LINE_AA)\n",
    "            \n",
    "        \n",
    "    else:\n",
    "        pass\n",
    "    \n",
    "    \n",
    "    cv2.imshow(\"frame\",frame)\n",
    "    cv2.imshow(\"roi\",roi)\n",
    "    cv2.imshow(\"mask\",mask)\n",
    "    \n",
    "    if cv2.waitKey(1)&0xFF==ord(\"q\"):\n",
    "        break\n",
    "        \n",
    "cap.release()\n",
    "cv2.destroyAllWindows()"
   ]
  },
  {
   "cell_type": "code",
   "execution_count": null,
   "id": "d61d891f",
   "metadata": {},
   "outputs": [],
   "source": []
  },
  {
   "cell_type": "code",
   "execution_count": null,
   "id": "fb1f8d0c",
   "metadata": {},
   "outputs": [],
   "source": []
  }
 ],
 "metadata": {
  "kernelspec": {
   "display_name": "Python 3 (ipykernel)",
   "language": "python",
   "name": "python3"
  },
  "language_info": {
   "codemirror_mode": {
    "name": "ipython",
    "version": 3
   },
   "file_extension": ".py",
   "mimetype": "text/x-python",
   "name": "python",
   "nbconvert_exporter": "python",
   "pygments_lexer": "ipython3",
   "version": "3.9.18"
  }
 },
 "nbformat": 4,
 "nbformat_minor": 5
}
